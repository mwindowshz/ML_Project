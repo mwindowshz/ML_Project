{
 "cells": [
  {
   "cell_type": "markdown",
   "metadata": {
    "collapsed": true
   },
   "source": [
    " conda install -c conda-forge keras tensorflow\n",
    "#strategy\n",
    "\n",
    "run svm as in ex4, find the best results, \n",
    "then run several tests with diffrent devision of data\n",
    "\n",
    "spliting and choosing diffrent sets 10-20% test the rest learn, \n",
    "\n",
    "then try for this svm kernel some diffrent Hyper parameters\n",
    "\n",
    "choose the best."
   ]
  },
  {
   "cell_type": "code",
   "execution_count": 2,
   "metadata": {},
   "outputs": [],
   "source": [
    "import numpy as np\n",
    "import pandas as pd\n",
    "\n",
    "import matplotlib.pyplot as plt\n",
    "\n",
    "from sklearn import datasets\n",
    "from sklearn import svm"
   ]
  },
  {
   "cell_type": "markdown",
   "metadata": {},
   "source": [
    ""
   ]
  },
  {
   "cell_type": "code",
   "execution_count": 3,
   "metadata": {},
   "outputs": [],
   "source": [
    "filename =  \"C:\\\\Users\\\\owner\\\\Google Drive\\\\docs\\\\study\\\\ML_final_Project\\\\real_project_data.xls\""
   ]
  },
  {
   "cell_type": "code",
   "execution_count": 5,
   "metadata": {},
   "outputs": [
    {
     "name": "stdout",
     "output_type": "stream",
     "text": [
      "399\n21\n"
     ]
    },
    {
     "ename": "TypeError",
     "evalue": "'_Options' object is not callable",
     "traceback": [
      "\u001b[0;31m---------------------------------------------------------------------------\u001b[0m",
      "\u001b[0;31mTypeError\u001b[0m                                 Traceback (most recent call last)",
      "\u001b[0;32m<ipython-input-5-bc2cdce1b93a>\u001b[0m in \u001b[0;36m<module>\u001b[0;34m()\u001b[0m\n\u001b[1;32m      3\u001b[0m \u001b[1;32mprint\u001b[0m\u001b[1;33m(\u001b[0m\u001b[0mm\u001b[0m\u001b[1;33m)\u001b[0m\u001b[1;33m\u001b[0m\u001b[0m\n\u001b[1;32m      4\u001b[0m \u001b[1;32mprint\u001b[0m\u001b[1;33m(\u001b[0m\u001b[0mn\u001b[0m\u001b[1;33m)\u001b[0m\u001b[1;33m\u001b[0m\u001b[0m\n\u001b[0;32m----> 5\u001b[0;31m \u001b[0mpd\u001b[0m\u001b[1;33m.\u001b[0m\u001b[0mplot_params\u001b[0m\u001b[1;33m(\u001b[0m\u001b[1;33m)\u001b[0m\u001b[1;33m\u001b[0m\u001b[0m\n\u001b[0m",
      "\u001b[0;31mTypeError\u001b[0m: '_Options' object is not callable"
     ],
     "output_type": "error"
    }
   ],
   "source": [
    "data = pd.read_excel(filename)\n",
    "[m,n] = data.shape\n",
    "print(m)\n",
    "print(n)"
   ]
  },
  {
   "cell_type": "markdown",
   "metadata": {},
   "source": [
    ""
   ]
  },
  {
   "cell_type": "code",
   "execution_count": 6,
   "metadata": {},
   "outputs": [
    {
     "name": "stdout",
     "output_type": "stream",
     "text": [
      "Points on flag:\ncolor\ngreen    10291\nred       4709\ndtype: int64\n\n"
     ]
    },
    {
     "name": "stdout",
     "output_type": "stream",
     "text": [
      "Training Set Size: 10000\nTest Set Size: 5000\n"
     ]
    },
    {
     "name": "stderr",
     "output_type": "stream",
     "text": [
      "C:\\Program Files\\Anaconda2\\lib\\site-packages\\ipykernel\\__main__.py:65: SettingWithCopyWarning: \nA value is trying to be set on a copy of a slice from a DataFrame.\nTry using .loc[row_indexer,col_indexer] = value instead\n\nSee the caveats in the documentation: http://pandas.pydata.org/pandas-docs/stable/indexing.html#indexing-view-versus-copy\nC:\\Program Files\\Anaconda2\\lib\\site-packages\\ipykernel\\__main__.py:66: SettingWithCopyWarning: \nA value is trying to be set on a copy of a slice from a DataFrame.\nTry using .loc[row_indexer,col_indexer] = value instead\n\nSee the caveats in the documentation: http://pandas.pydata.org/pandas-docs/stable/indexing.html#indexing-view-versus-copy\n"
     ]
    },
    {
     "name": "stdout",
     "output_type": "stream",
     "text": [
      "Confusion Matrix for SVM:\n[[4320   88]\n [  29  563]]\nConfusion Matrix for Logistic:\n"
     ]
    },
    {
     "name": "stdout",
     "output_type": "stream",
     "text": [
      "[[   0 4408]\n [   0  592]]\nConfusion Matrix for Decision Tree:\n[[1950 2458]\n [   0  592]]\n"
     ]
    },
    {
     "data": {
      "image/png": "[encoded data removed]",
      "text/plain": [
       "<matplotlib.figure.Figure at 0xbd217f0>"
      ]
     },
     "metadata": {},
     "output_type": "display_data"
    }
   ],
   "source": [
    "import numpy as np\n",
    "import pylab as pl\n",
    "import pandas as pd\n",
    "\n",
    "from sklearn import svm\n",
    "from sklearn import linear_model\n",
    "from sklearn import tree\n",
    "\n",
    "from sklearn.metrics import confusion_matrix\n",
    "\n",
    "x_min, x_max = 0, 15\n",
    "y_min, y_max = 0, 10\n",
    "step = .1\n",
    "# to plot the boundary, we're going to create a matrix of every possible point\n",
    "# then label each point as a wolf or cow using our classifier\n",
    "xx, yy = np.meshgrid(np.arange(x_min, x_max, step), np.arange(y_min, y_max, step))\n",
    "\n",
    "df = pd.DataFrame(data={'x': xx.ravel(), 'y': yy.ravel()})\n",
    "\n",
    "df['color_gauge'] = (df.x-7.5)**2 + (df.y-5)**2\n",
    "df['color'] = df.color_gauge.apply(lambda x: \"red\" if x <= 15 else \"green\")\n",
    "df['color_as_int'] = df.color.apply(lambda x: 0 if x==\"red\" else 1)\n",
    "\n",
    "print \"Points on flag:\"\n",
    "print df.groupby('color').size()\n",
    "print\n",
    "\n",
    "figure = 1\n",
    "\n",
    "# plot a figure for the entire dataset\n",
    "for color in df.color.unique():\n",
    "    idx = df.color==color\n",
    "    pl.subplot(2, 2, figure)\n",
    "    pl.scatter(df[idx].x, df[idx].y, color=color)\n",
    "    pl.title('Actual')\n",
    "\n",
    "\n",
    "train_idx = df.x < 10\n",
    "\n",
    "train = df[train_idx]\n",
    "test = df[-train_idx]\n",
    "\n",
    "\n",
    "print \"Training Set Size: %d\" % len(train)\n",
    "print \"Test Set Size: %d\" % len(test)\n",
    "\n",
    "# train using the x and y position coordiantes\n",
    "cols = [\"x\", \"y\"]\n",
    "\n",
    "clfs = {\n",
    "    \"SVM\": svm.SVC(degree=0.5),\n",
    "    \"Logistic\" : linear_model.LogisticRegression(),\n",
    "    \"Decision Tree\": tree.DecisionTreeClassifier()\n",
    "}\n",
    "\n",
    "\n",
    "# racehorse different classifiers and plot the results\n",
    "for clf_name, clf in clfs.iteritems():\n",
    "    figure += 1\n",
    "\n",
    "    # train the classifier\n",
    "    clf.fit(train[cols], train.color_as_int)\n",
    "\n",
    "    # get the predicted values from the test set\n",
    "    test['predicted_color_as_int'] = clf.predict(test[cols])\n",
    "    test['pred_color'] = test.predicted_color_as_int.apply(lambda x: \"red\" if x==0 else \"green\")\n",
    "    \n",
    "    # create a new subplot on the plot\n",
    "    pl.subplot(2, 2, figure)\n",
    "    # plot each predicted color\n",
    "    for color in test.pred_color.unique():\n",
    "        # plot only rows where pred_color is equal to color\n",
    "        idx = test.pred_color==color\n",
    "        pl.scatter(test[idx].x, test[idx].y, color=color)\n",
    "\n",
    "    # plot the training set as well\n",
    "    for color in train.color.unique():\n",
    "        idx = train.color==color\n",
    "        pl.scatter(train[idx].x, train[idx].y, color=color)\n",
    "\n",
    "    # add a dotted line to show the boundary between the training and test set\n",
    "    # (everything to the right of the line is in the test set)\n",
    "    #this plots a vertical line\n",
    "    train_line_y = np.linspace(y_min, y_max) #evenly spaced array from 0 to 10\n",
    "    train_line_x = np.repeat(10, len(train_line_y)) #repeat 10 (threshold for traininset) n times\n",
    "    # add a black, dotted line to the subplot\n",
    "    pl.plot(train_line_x, train_line_y, 'k--', color=\"black\")\n",
    "    \n",
    "    pl.title(clf_name)\n",
    "\n",
    "    print \"Confusion Matrix for %s:\" % clf_name\n",
    "    print confusion_matrix(test.color, test.pred_color)\n",
    "pl.show()"
   ]
  },
  {
   "cell_type": "markdown",
   "metadata": {},
   "source": [
    "running to fund best featurs on logistic regresstion\n",
    "Best 5 features are [8, 3, 2, 19, 5] Iterations:50 alpha0.3\n",
    "accuracy on test data = 0.9183673469387755%\n",
    "accuracy on learning data= 0.9333333333333333%\n",
    "\n",
    "Best 5 features are [8, 3, 2, 15, 7] Iterations:50 alpha0.3\n",
    "accuracy on test data = 0.9081632653061225%\n",
    "accuracy on learning data= 0.93%\n",
    "\n",
    "Process finished with exit code 0\n",
    "\n",
    "\n"
   ]
  },
  {
   "cell_type": "markdown",
   "metadata": {},
   "source": [
    "# split data to train and test"
   ]
  },
  {
   "cell_type": "code",
   "execution_count": null,
   "metadata": {},
   "outputs": [],
   "source": [
    "from sklearn.cross_validation import train_test_split\n",
    "\n",
    "# Shuffle and split the dataset into training and testing set.\n",
    "X_train, X_test, y_train, y_test = train_test_split(X_all, y_all, \n",
    "                                                    test_size = 50,\n",
    "                                                    random_state = 2,\n",
    "                                                    stratify = y_all)"
   ]
  },
  {
   "cell_type": "code",
   "execution_count": null,
   "metadata": {},
   "outputs": [],
   "source": [
    "# Standardising the data.\n",
    "from sklearn.preprocessing import scale\n",
    "#Center to the mean and component wise scale to unit variance.\n",
    "cols = [['HTGD','ATGD','HTP','ATP','DiffLP']]\n",
    "for col in cols:\n",
    "    X_all[col] = scale(X_all[col])\n",
    "    \n",
    "    \n",
    "    \n",
    "    \n",
    "# Visualising distribution of data\n",
    "from pandas.tools.plotting import scatter_matrix\n",
    "\n",
    "#the scatter matrix is plotting each of the columns specified against each other column.\n",
    "#You would have observed that the diagonal graph is defined as a histogram, which means that in the \n",
    "#section of the plot matrix where the variable is against itself, a histogram is plotted.\n",
    "\n",
    "#Scatter plots show how much one variable is affected by another. \n",
    "#The relationship between two variables is called their correlation\n",
    "#negative vs positive correlation\n",
    "\n",
    "#HTGD - Home team goal difference\n",
    "#ATGD - away team goal difference\n",
    "#HTP - Home team points\n",
    "#ATP - Away team points\n",
    "#DiffFormPts Diff in points\n",
    "#DiffLP - Differnece in last years prediction\n",
    "\n",
    "scatter_matrix(data[['HTGD','ATGD','HTP','ATP','DiffFormPts','DiffLP']], figsize=(10,10))"
   ]
  },
  {
   "cell_type": "markdown",
   "metadata": {},
   "source": [
    "#Training and Evaluating"
   ]
  },
  {
   "cell_type": "code",
   "execution_count": null,
   "metadata": {},
   "outputs": [],
   "source": [
    "#for measuring training time\n",
    "from time import time \n",
    "# F1 score (also F-score or F-measure) is a measure of a test's accuracy. \n",
    "#It considers both the precision p and the recall r of the test to compute \n",
    "#the score: p is the number of correct positive results divided by the number of \n",
    "#all positive results, and r is the number of correct positive results divided by \n",
    "#the number of positive results that should have been returned. The F1 score can be \n",
    "#interpreted as a weighted average of the precision and recall, where an F1 score \n",
    "#reaches its best value at 1 and worst at 0.\n",
    "from sklearn.metrics import f1_score\n",
    "\n",
    "def train_classifier(clf, X_train, y_train):\n",
    "    ''' Fits a classifier to the training data. '''\n",
    "    \n",
    "    # Start the clock, train the classifier, then stop the clock\n",
    "    start = time()\n",
    "    clf.fit(X_train, y_train)\n",
    "    end = time()\n",
    "    \n",
    "    # Print the results\n",
    "    print \"Trained model in {:.4f} seconds\".format(end - start)\n",
    "\n",
    "    \n",
    "def predict_labels(clf, features, target):\n",
    "    ''' Makes predictions using a fit classifier based on F1 score. '''\n",
    "    \n",
    "    # Start the clock, make predictions, then stop the clock\n",
    "    start = time()\n",
    "    y_pred = clf.predict(features)\n",
    "    \n",
    "    end = time()\n",
    "    # Print and return results\n",
    "    print \"Made predictions in {:.4f} seconds.\".format(end - start)\n",
    "    \n",
    "    return f1_score(target, y_pred, pos_label='H'), sum(target == y_pred) / float(len(y_pred))\n",
    "\n",
    "\n",
    "def train_predict(clf, X_train, y_train, X_test, y_test):\n",
    "    ''' Train and predict using a classifer based on F1 score. '''\n",
    "    \n",
    "    # Indicate the classifier and the training set size\n",
    "    print \"Training a {} using a training set size of {}. . .\".format(clf.__class__.__name__, len(X_train))\n",
    "    \n",
    "    # Train the classifier\n",
    "    train_classifier(clf, X_train, y_train)\n",
    "    \n",
    "    # Print the results of prediction for both training and testing\n",
    "    f1, acc = predict_labels(clf, X_train, y_train)\n",
    "    print f1, acc\n",
    "    print \"F1 score and accuracy score for training set: {:.4f} , {:.4f}.\".format(f1 , acc)\n",
    "    \n",
    "    f1, acc = predict_labels(clf, X_test, y_test)\n",
    "    print \"F1 score and accuracy score for test set: {:.4f} , {:.4f}.\".format(f1 , acc)"
   ]
  },
  {
   "cell_type": "markdown",
   "metadata": {},
   "source": [
    "##broot force find parameters"
   ]
  },
  {
   "cell_type": "code",
   "execution_count": null,
   "metadata": {},
   "outputs": [],
   "source": [
    "# TODO: Import 'GridSearchCV' and 'make_scorer'\n",
    "from sklearn.grid_search import GridSearchCV\n",
    "from sklearn.metrics import make_scorer\n",
    "\n",
    "\n",
    "# TODO: Create the parameters list you wish to tune\n",
    "parameters = { 'learning_rate' : [0.1],\n",
    "               'n_estimators' : [40],\n",
    "               'max_depth': [3],\n",
    "               'min_child_weight': [3],\n",
    "               'gamma':[0.4],\n",
    "               'subsample' : [0.8],\n",
    "               'colsample_bytree' : [0.8],\n",
    "               'scale_pos_weight' : [1],\n",
    "               'reg_alpha':[1e-5]\n",
    "             }  \n",
    "\n",
    "# TODO: Initialize the classifier\n",
    "clf = xgb.XGBClassifier(seed=2)\n",
    "\n",
    "# TODO: Make an f1 scoring function using 'make_scorer' \n",
    "f1_scorer = make_scorer(f1_score,pos_label='H')\n",
    "\n",
    "# TODO: Perform grid search on the classifier using the f1_scorer as the scoring method\n",
    "grid_obj = GridSearchCV(clf,\n",
    "                        scoring=f1_scorer,\n",
    "                        param_grid=parameters,\n",
    "                        cv=5)\n",
    "\n",
    "# TODO: Fit the grid search object to the training data and find the optimal parameters\n",
    "grid_obj = grid_obj.fit(X_train,y_train)\n",
    "\n",
    "# Get the estimator\n",
    "clf = grid_obj.best_estimator_\n",
    "print clf\n",
    "\n",
    "# Report the final F1 score for training and testing after parameter tuning\n",
    "f1, acc = predict_labels(clf, X_train, y_train)\n",
    "print \"F1 score and accuracy score for training set: {:.4f} , {:.4f}.\".format(f1 , acc)\n",
    "    \n",
    "f1, acc = predict_labels(clf, X_test, y_test)\n",
    "print \"F1 score and accuracy score for test set: {:.4f} , {:.4f}.\".format(f1 , acc)"
   ]
  },
  {
   "cell_type": "code",
   "execution_count": null,
   "metadata": {},
   "outputs": [],
   "source": [
    "from sklearn.preprocessing import StandardScaler\n",
    "self.origin_data = self.x_mat \n",
    "normed = StandardScaler().fit_transform(self.x_mat) \n",
    "self.x_mat = normed\n",
    "\n",
    "Before that I also used (and it worked): \n",
    "self.__features_avgs = self.data.mean(axis=0) \n",
    "# input - by column \n",
    "# self.__features_std = self.data.std(axis=0) \n",
    "# normed = (data - self.__features_avgs) / self.__features_std"
   ]
  }
 ],
 "metadata": {
  "kernelspec": {
   "display_name": "Python 2",
   "language": "python",
   "name": "python2"
  },
  "language_info": {
   "codemirror_mode": {
    "name": "ipython",
    "version": 2.0
   },
   "file_extension": ".py",
   "mimetype": "text/x-python",
   "name": "python",
   "nbconvert_exporter": "python",
   "pygments_lexer": "ipython2",
   "version": "2.7.6"
  }
 },
 "nbformat": 4,
 "nbformat_minor": 0
}